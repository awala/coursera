{
 "cells": [
  {
   "cell_type": "markdown",
   "id": "521ec759",
   "metadata": {},
   "source": [
    "# My Jupyter Notebook on IBM Watson Studio"
   ]
  },
  {
   "cell_type": "markdown",
   "id": "c8dedbe5",
   "metadata": {},
   "source": [
    "**Artur Wala**"
   ]
  },
  {
   "cell_type": "markdown",
   "id": "16a4bace",
   "metadata": {},
   "source": [
    "*I'm learning data science to create a data-driven organisation and extend data literacy among my colleagues. In the future I'd love to connect data science with neuro science and psychology*"
   ]
  },
  {
   "cell_type": "markdown",
   "id": "04cfb32d",
   "metadata": {},
   "source": [
    "### My code will add two numbers"
   ]
  },
  {
   "cell_type": "code",
   "execution_count": 2,
   "id": "183c3c2c",
   "metadata": {},
   "outputs": [
    {
     "data": {
      "text/plain": [
       "2"
      ]
     },
     "execution_count": 2,
     "metadata": {},
     "output_type": "execute_result"
    }
   ],
   "source": [
    "1+1"
   ]
  },
  {
   "cell_type": "markdown",
   "id": "708aefa3",
   "metadata": {},
   "source": [
    "- bullet\n",
    "- list\n",
    "- it is\n",
    "\n",
    "[Coursera](https://www.coursera.org/)\n",
    "\n",
    "1. Numbers\n",
    "2. Are\n",
    "3. Fun\n"
   ]
  },
  {
   "cell_type": "code",
   "execution_count": null,
   "id": "dd15a39f",
   "metadata": {},
   "outputs": [],
   "source": []
  },
  {
   "cell_type": "code",
   "execution_count": null,
   "id": "dffa64e7",
   "metadata": {},
   "outputs": [],
   "source": []
  },
  {
   "cell_type": "code",
   "execution_count": null,
   "id": "508d0d55",
   "metadata": {},
   "outputs": [],
   "source": []
  }
 ],
 "metadata": {
  "kernelspec": {
   "display_name": "Python 3 (ipykernel)",
   "language": "python",
   "name": "python3"
  },
  "language_info": {
   "codemirror_mode": {
    "name": "ipython",
    "version": 3
   },
   "file_extension": ".py",
   "mimetype": "text/x-python",
   "name": "python",
   "nbconvert_exporter": "python",
   "pygments_lexer": "ipython3",
   "version": "3.9.13"
  }
 },
 "nbformat": 4,
 "nbformat_minor": 5
}
